{
 "cells": [
  {
   "cell_type": "markdown",
   "metadata": {},
   "source": [
    "# ASTROLOGER'S STAR"
   ]
  },
  {
   "cell_type": "code",
   "execution_count": 19,
   "metadata": {},
   "outputs": [
    {
     "name": "stdout",
     "output_type": "stream",
     "text": [
      "Enter the number of rows: 10\n",
      "Enter 1 for True and 2 for False: 4\n",
      "Choose between 1 or 2\n",
      "Enter 1 for True and 2 for False: 3\n",
      "Choose between 1 or 2\n",
      "Enter 1 for True and 2 for False: 2\n",
      "You chose: False\n",
      "**********\n",
      "*********\n",
      "********\n",
      "*******\n",
      "******\n",
      "*****\n",
      "****\n",
      "***\n",
      "**\n",
      "*\n"
     ]
    }
   ],
   "source": [
    "n=int(input(\"Enter the number of rows: \"))\n",
    "def tf(a):\n",
    "    a=int(input(\"Enter 1 for True and 2 for False: \"))\n",
    "    if a==1:\n",
    "        return True\n",
    "    elif a==2:\n",
    "        return False\n",
    "    else:\n",
    "        print(\"Choose between 1 or 2\")\n",
    "        return tf(a)\n",
    "\n",
    "    \n",
    "bool_val=tf(n)\n",
    "\n",
    "\n",
    "print(\"You chose:\",bool_val)\n",
    "if bool_val==True:\n",
    "    for i in range(1,n+1):\n",
    "        print(i*\"*\")\n",
    "if bool_val==False:\n",
    "    i=n\n",
    "    while i>=1:\n",
    "        print(i*\"*\")\n",
    "        i-=1"
   ]
  },
  {
   "cell_type": "code",
   "execution_count": 20,
   "metadata": {},
   "outputs": [
    {
     "name": "stdout",
     "output_type": "stream",
     "text": [
      "Enter the number of rows: 10\n",
      "Enter 1 for True and 2 for False: 5\n",
      "Choose between 1 or 2\n",
      "Enter 1 for True and 2 for False: 6\n",
      "Choose between 1 or 2\n",
      "Enter 1 for True and 2 for False: 1\n",
      "You chose: True\n",
      "*\n",
      "**\n",
      "***\n",
      "****\n",
      "*****\n",
      "******\n",
      "*******\n",
      "********\n",
      "*********\n",
      "**********\n"
     ]
    }
   ],
   "source": [
    "n=int(input(\"Enter the number of rows: \"))\n",
    "def tf(a):\n",
    "    a=int(input(\"Enter 1 for True and 2 for False: \"))\n",
    "    if a==1:\n",
    "        return True\n",
    "    elif a==2:\n",
    "        return False\n",
    "    else:\n",
    "        print(\"Choose between 1 or 2\")\n",
    "        return tf(a)\n",
    "\n",
    "    \n",
    "bool_val=tf(n)\n",
    "\n",
    "\n",
    "print(\"You chose:\",bool_val)\n",
    "if bool_val==True:\n",
    "    for i in range(1,n+1):\n",
    "        print(i*\"*\")\n",
    "if bool_val==False:\n",
    "    i=n\n",
    "    while i>=1:\n",
    "        print(i*\"*\")\n",
    "        i-=1"
   ]
  },
  {
   "cell_type": "code",
   "execution_count": null,
   "metadata": {},
   "outputs": [],
   "source": []
  }
 ],
 "metadata": {
  "kernelspec": {
   "display_name": "Python 3",
   "language": "python",
   "name": "python3"
  },
  "language_info": {
   "codemirror_mode": {
    "name": "ipython",
    "version": 3
   },
   "file_extension": ".py",
   "mimetype": "text/x-python",
   "name": "python",
   "nbconvert_exporter": "python",
   "pygments_lexer": "ipython3",
   "version": "3.6.5"
  }
 },
 "nbformat": 4,
 "nbformat_minor": 2
}
